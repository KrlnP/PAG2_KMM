{
 "cells": [
  {
   "cell_type": "markdown",
   "metadata": {},
   "source": [
    "### Environment"
   ]
  },
  {
   "cell_type": "code",
   "execution_count": 1,
   "metadata": {},
   "outputs": [],
   "source": [
    "import arcpy\n",
    "import heapq \n",
    "import math\n",
    "from collections import defaultdict\n",
    "\n",
    "arcpy.env.workspace = r\"D:\\sem5\\pag\\lab3\\lab3\\lab3.gdb\"\n",
    "arcpy.env.overwriteOutput = True"
   ]
  },
  {
   "cell_type": "markdown",
   "metadata": {},
   "source": [
    "### Define file paths"
   ]
  },
  {
   "cell_type": "code",
   "execution_count": 22,
   "metadata": {},
   "outputs": [],
   "source": [
    "folder = r\"D:\\sem5\\pag\\lab3\"\n",
    "\n",
    "roads_shp = folder + r\"\\SKJZ\"\n",
    "\n",
    "vertices_file = folder + r\"\\vertices.txt\"\n",
    "edges_file = folder + r\"\\edges.txt\"\n",
    "\n",
    "path_file = folder + r\"\\path.txt\"\n",
    "\n",
    "visited_vertices = folder + r\"\\visited_vertices.txt\"\n",
    "roads_visited = folder + r\"\\roads_visited.txt\"\n"
   ]
  },
  {
   "cell_type": "code",
   "execution_count": 43,
   "metadata": {},
   "outputs": [
    {
     "data": {
      "text/html": [
       "<div class='gpresult'><h2>Messages</h2><div id='messages'>Start Time: 07 November 2024 17:53:30<br>Succeeded at 07 November 2024 17:53:34 (Elapsed Time: 3.27 seconds)<br></div><div id = 'default' /></div></div>"
      ],
      "text/plain": [
       "<Result 'D:\\\\sem5\\\\pag\\\\lab3\\\\SKJZ.shp'>"
      ]
     },
     "execution_count": 43,
     "metadata": {},
     "output_type": "execute_result"
    }
   ],
   "source": [
    "# Merge the two road shapefiles\n",
    "arcpy.management.Merge(\n",
    "    inputs=\"L4_1_BDOT10k__OT_SKJZ_L;L4_2_BDOT10k__OT_SKJZ_L\",\n",
    "    output=roads_shp,\n",
    "    field_mappings='katZarzadz \"katZarzadz\" true true false 254 Text 0 0,First,#,L4_1_BDOT10k__OT_SKJZ_L,katZarzadz,0,253;klasaDrogi \"klasaDrogi\" true true false 254 Text 0 0,First,#,L4_1_BDOT10k__OT_SKJZ_L,klasaDrogi,0,253;materialNa \"materialNa\" true true false 254 Text 0 0,First,#,L4_1_BDOT10k__OT_SKJZ_L,materialNa,0,253;liczbaJezd \"liczbaJezd\" true true false 5 Long 0 0,First,#,L4_1_BDOT10k__OT_SKJZ_L,liczbaJezd,-1,-1;szerNawier \"szerNawier\" true true false 19 Double 0 0,First,#,L4_1_BDOT10k__OT_SKJZ_L,szerNawier,-1,-1;szerKorony \"szerKorony\" true true false 19 Double 0 0,First,#,L4_1_BDOT10k__OT_SKJZ_L,szerKorony,-1,-1;liczbaPaso \"liczbaPaso\" true true false 5 Long 0 0,First,#,L4_1_BDOT10k__OT_SKJZ_L,liczbaPaso,-1,-1;ulica \"ulica\" true true false 4 Short 0 0,First,#,L4_1_BDOT10k__OT_SKJZ_L,ulica,-1,-1',\n",
    "    add_source=\"NO_SOURCE_INFO\"\n",
    ")"
   ]
  },
  {
   "cell_type": "markdown",
   "metadata": {},
   "source": [
    "### Define the start and end vertex"
   ]
  },
  {
   "cell_type": "code",
   "execution_count": 39,
   "metadata": {},
   "outputs": [],
   "source": [
    "start = 566\n",
    "end = 7063"
   ]
  },
  {
   "cell_type": "markdown",
   "metadata": {},
   "source": [
    "# Make graph from a shapefile\n",
    "This code takes a shapefile file containing a road network and processes it producing a vertcies and edges file.\\\n",
    "**vertex**: id, x, y, edges \\\n",
    "**edge**: id, from, to, road_id, length, speed"
   ]
  },
  {
   "cell_type": "code",
   "execution_count": 21,
   "metadata": {},
   "outputs": [],
   "source": [
    "vertices = {}\n",
    "edges = []\n",
    "\n",
    "# Create vertex if one doesn't exist with the same coords\n",
    "def add_vertex(x, y, vertex_id):\n",
    "    if (x, y) not in vertices:\n",
    "        vertices[(x, y)] = {'id': vertex_id, 'x': x, 'y': y, 'edges': []}\n",
    "    return vertices[(x, y)]['id']\n",
    "\n",
    "def speed(klasa):\n",
    "    kmh2ms = 1000 / 3600\n",
    "    match klasa:\n",
    "        case 'A':\n",
    "            return 140 * kmh2ms\n",
    "        case 'S':\n",
    "            return 120 * kmh2ms\n",
    "        case 'GP':\n",
    "            return 70 * kmh2ms\n",
    "        case 'G':\n",
    "            return 60 * kmh2ms\n",
    "        case 'Z':\n",
    "            return 50 * kmh2ms\n",
    "        case 'L':\n",
    "            return 40 * kmh2ms\n",
    "        case 'D':\n",
    "            return 20 * kmh2ms\n",
    "        case 'I':\n",
    "            return 20 * kmh2ms\n",
    "    return 0\n",
    "\n",
    "# Read road shp\n",
    "with arcpy.da.SearchCursor(roads_shp, [\"SHAPE@\", \"FID\", \"klasaDrogi\"]) as cursor:\n",
    "    vertex_id = 0\n",
    "    edge_id = 0\n",
    "\n",
    "    for row in cursor:\n",
    "        line = row[0]\n",
    "        FID = row[1]\n",
    "        klasa = row[2]\n",
    "        speedms = speed(klasa)\n",
    "\n",
    "        \n",
    "        # read start and end point, round to one meter\n",
    "        start_point = line.firstPoint\n",
    "        end_point = line.lastPoint\n",
    "\n",
    "        start_point = (round(start_point.X, 0), round(start_point.Y, 0))\n",
    "        end_point = (round(end_point.X, 0), round(end_point.Y, 0))\n",
    "        \n",
    "        start_vertex = add_vertex(start_point[0], start_point[1], vertex_id)\n",
    "        vertex_id += 1 if start_vertex == vertex_id else 0\n",
    "\n",
    "        end_vertex = add_vertex(end_point[0], end_point[1], vertex_id)\n",
    "        vertex_id += 1 if end_vertex == vertex_id else 0\n",
    "\n",
    "        # add edges\n",
    "        edges.append({\n",
    "            \"id\": edge_id,\n",
    "            \"from\": start_vertex,\n",
    "            \"to\": end_vertex,\n",
    "            \"road_id\": FID,\n",
    "            \"length\": line.length,\n",
    "            \"speed\": speedms\n",
    "        })\n",
    "\n",
    "        edge_id += 1\n",
    "        \n",
    "        # add edges to the vertex file\n",
    "        vertices[start_point]['edges'].append(edge_id)\n",
    "        vertices[end_point]['edges'].append(edge_id)\n",
    "\n",
    "\n",
    "# Write vertices\n",
    "with open(vertices_file, \"w\") as vf:\n",
    "    vf.write(\"id\\tx\\ty\\tedges\\n\")\n",
    "    for v in vertices.values():\n",
    "        vf.write(f\"{v['id']}\\t{v['x']}\\t{v['y']}\\t{','.join(map(str, v['edges']))}\\n\")\n",
    "\n",
    "# Write edges\n",
    "with open(edges_file, \"w\") as ef:\n",
    "    ef.write(\"id\\tfrom\\tto\\troad_id\\tlength\\tspeed\\n\")\n",
    "    for edge in edges:\n",
    "        ef.write(f\"{edge['id']}\\t{edge['from']}\\t{edge['to']}\\t{edge['road_id']}\\t{edge['length']}\\t{edge['speed']}\\n\")\n",
    "\n",
    "# print(\"Vertex count:\", len(vertices))\n",
    "# print(\"Edge count:\", len(edges))\n"
   ]
  },
  {
   "cell_type": "markdown",
   "metadata": {},
   "source": [
    "### Display all vertices "
   ]
  },
  {
   "cell_type": "code",
   "execution_count": 13,
   "metadata": {},
   "outputs": [
    {
     "data": {
      "text/html": [
       "<div class='gpresult'><h2>Messages</h2><div id='messages'>Start Time: 07 November 2024 16:12:13<br>Succeeded at 07 November 2024 16:12:15 (Elapsed Time: 1.89 seconds)<br></div><div id = 'default' /></div></div>"
      ],
      "text/plain": [
       "<Result 'D:\\\\sem5\\\\pag\\\\lab3\\\\lab3\\\\lab3.gdb\\\\vertices'>"
      ]
     },
     "execution_count": 13,
     "metadata": {},
     "output_type": "execute_result"
    }
   ],
   "source": [
    "# Makes points from the vertex.txt file\n",
    "arcpy.management.XYTableToPoint(\n",
    "    in_table=vertices_file,\n",
    "    out_feature_class=r\"vertices\",\n",
    "    x_field=\"x\",\n",
    "    y_field=\"y\",\n",
    "    z_field=None,\n",
    "    coordinate_system='PROJCS[\"ETRS_1989_UWPP_1992\",GEOGCS[\"GCS_ETRS_1989\",DATUM[\"D_ETRS_1989\",SPHEROID[\"GRS_1980\",6378137.0,298.257222101]],PRIMEM[\"Greenwich\",0.0],UNIT[\"Degree\",0.0174532925199433]],PROJECTION[\"Gauss_Kruger\"],PARAMETER[\"False_Easting\",500000.0],PARAMETER[\"False_Northing\",-5300000.0],PARAMETER[\"Central_Meridian\",19.0],PARAMETER[\"Scale_Factor\",0.9993],PARAMETER[\"Latitude_Of_Origin\",0.0],UNIT[\"Meter\",1.0]];-5119200 -15295100 10000;-100000 10000;-100000 10000;0.001;0.001;0.001;IsHighPrecision'\n",
    ")"
   ]
  },
  {
   "cell_type": "markdown",
   "metadata": {},
   "source": [
    "# A* Path Finder"
   ]
  },
  {
   "cell_type": "code",
   "execution_count": 44,
   "metadata": {},
   "outputs": [
    {
     "name": "stdout",
     "output_type": "stream",
     "text": [
      "[566, 585, 586, 587, 8433, 7549, 7552, 1593, 8424, 8444, 8472, 8476, 5144, 7751, 3158, 7225, 7754, 7755, 8478, 7063]\n",
      "[8872, 427, 428, 8903, 8902, 6929, 11268, 8882, 9036, 9037, 9034, 9038, 9039, 7283, 7284, 7282, 7285, 9040, 9041]\n",
      "Total length of route: 1428.18 meters\n",
      "Total time: 0h 2min 15sec\n"
     ]
    }
   ],
   "source": [
    "def read_graph_undirected(filename):\n",
    "    f = open(filename)\n",
    "    g = defaultdict(list)\n",
    "    road_ids = {}\n",
    "    road_lengths = {}\n",
    "    road_speeds = {}\n",
    "    \n",
    "    f.readline()\n",
    "    for line in f:\n",
    "        e = line.split()\n",
    "        from_vertex, to_vertex, road_id = int(e[1]), int(e[2]), int(e[3])\n",
    "        length, speed = float(e[4]), float(e[5])\n",
    "\n",
    "        # store neighbors and length for each direction\n",
    "        g[from_vertex].append((to_vertex, length))\n",
    "        g[to_vertex].append((from_vertex, length))\n",
    "\n",
    "        # store road ID and length for each direction (undirected graph)\n",
    "        road_ids[(from_vertex, to_vertex)] = road_id\n",
    "        road_ids[(to_vertex, from_vertex)] = road_id\n",
    "        road_lengths[(from_vertex, to_vertex)] = length\n",
    "        road_lengths[(to_vertex, from_vertex)] = length\n",
    "        road_speeds[(from_vertex, to_vertex)] = speed\n",
    "        road_speeds[(to_vertex, from_vertex)] = speed\n",
    "        \n",
    "    return g, road_ids, road_lengths, road_speeds\n",
    "\n",
    "def retrieve_path(prev, a, b, road_ids):\n",
    "    path = [b]\n",
    "    road_path = []\n",
    "    while b != a:\n",
    "        b = prev[b]\n",
    "        path.append(b)\n",
    "        road_path.append(road_ids[(b, path[-2])])\n",
    "    path.reverse()\n",
    "    road_path.reverse()\n",
    "    return path, road_path\n",
    "\n",
    "# estimate euclidian distance from one node to another\n",
    "def heuristic(v, goal, vertices):\n",
    "    vx, vy = vertices[v]['x'], vertices[v]['y']\n",
    "    gx, gy = vertices[goal]['x'], vertices[goal]['y']\n",
    "    return math.sqrt((vx - gx) ** 2 + (vy - gy) ** 2)\n",
    "\n",
    "# A* pathfinding algorithm\n",
    "def a_star_path(graph, road_ids, vertices, start, end):\n",
    "    open_set = [] # priority queue\n",
    "    heapq.heappush(open_set, (0, start))  # (f-score, vertex)\n",
    "    g_score = {vertex: float('inf') for vertex in graph}\n",
    "    g_score[start] = 0\n",
    "    prev = {}\n",
    "\n",
    "    while open_set:\n",
    "        # get the node with best f-score (lowest cost)\n",
    "        _, current = heapq.heappop(open_set)\n",
    "\n",
    "        if current == end:\n",
    "            return retrieve_path(prev, start, end, road_ids)\n",
    "\n",
    "        for neighbor, length in graph[current]:\n",
    "            tentative_g_score = g_score[current] + length\n",
    "            if tentative_g_score < g_score[neighbor]:\n",
    "                prev[neighbor] = current\n",
    "                g_score[neighbor] = tentative_g_score\n",
    "                f_score = g_score[neighbor] + heuristic(neighbor, end, vertices)\n",
    "                heapq.heappush(open_set, (f_score, neighbor))\n",
    "\n",
    "    return None\n",
    "\n",
    "\n",
    "g, road_ids, road_lengths, road_speeds = read_graph_undirected(edges_file)\n",
    "\n",
    "vertices_dict = {}\n",
    "with open(vertices_file, 'r') as vf:\n",
    "    vf.readline()\n",
    "    for line in vf:\n",
    "        parts = line.split()\n",
    "        v_id = int(parts[0])\n",
    "        x, y = float(parts[1]), float(parts[2])\n",
    "        vertices_dict[v_id] = {'x': x, 'y': y}\n",
    "\n",
    "path, road_path = a_star_path(g, road_ids, vertices_dict, start, end)\n",
    "\n",
    "print(path)\n",
    "print(road_path)\n",
    "\n",
    "# count total length and time\n",
    "def convert_time(total_seconds):\n",
    "    hours = total_seconds // 3600\n",
    "    minutes = (total_seconds % 3600) // 60\n",
    "    seconds = total_seconds % 60\n",
    "    return f\"{int(hours)}h {int(minutes)}min {int(seconds)}sec\"\n",
    "\n",
    "def len_time(path):\n",
    "    total_length = 0\n",
    "    total_time = 0\n",
    "\n",
    "    for i in range(len(path) - 1):\n",
    "        from_vertex = path[i]\n",
    "        to_vertex = path[i + 1]\n",
    "        \n",
    "        segment_length = road_lengths[(from_vertex, to_vertex)]\n",
    "        segment_speed = road_speeds[(from_vertex, to_vertex)]\n",
    "        \n",
    "        total_length += segment_length\n",
    "        total_time += segment_length / segment_speed\n",
    "    \n",
    "    return total_length, total_time\n",
    "\n",
    "total_length, total_time = len_time(path)\n",
    "formatted_time = convert_time(total_time)\n",
    "\n",
    "print(\"Total length of route:\", round(total_length,2), \"meters\")\n",
    "print(\"Total time:\", formatted_time)"
   ]
  },
  {
   "cell_type": "markdown",
   "metadata": {},
   "source": [
    "### Save and display the vertices and edges"
   ]
  },
  {
   "cell_type": "code",
   "execution_count": 42,
   "metadata": {},
   "outputs": [
    {
     "data": {
      "text/html": [
       "<div class='gpresult'><h2>Messages</h2><div id='messages'>Start Time: 07 November 2024 17:26:58<br>Succeeded at 07 November 2024 17:26:59 (Elapsed Time: 0.74 seconds)<br></div><div id = 'default' /></div></div>"
      ],
      "text/plain": [
       "<Result 'D:\\\\sem5\\\\pag\\\\lab3\\\\lab3\\\\lab3.gdb\\\\visited_roads'>"
      ]
     },
     "execution_count": 42,
     "metadata": {},
     "output_type": "execute_result"
    }
   ],
   "source": [
    "# find the vertices in the path and write the coords to the file\n",
    "with open(vertices_file, 'r') as f:\n",
    "    vertices = f.readlines()\n",
    "    vertices = [x.strip() for x in vertices]\n",
    "    path = [vertices[i+2].split()[0] for i in path]\n",
    "\n",
    "# write the path to a file\n",
    "with open(visited_vertices, 'w') as f:\n",
    "    f.write(\"id\\tx\\ty\\tedges\\n\")\n",
    "    for i in path:\n",
    "        f.write(vertices[int(i)] + '\\n')\n",
    "\n",
    "# write the road path to a file\n",
    "with open(roads_visited, 'w') as f:\n",
    "    f.write(\"id\\tx\\ty\\tedges\\n\")\n",
    "    for i in road_path:\n",
    "        f.write(str(i) + '\\n')\n",
    "\n",
    "arcpy.management.XYTableToPoint(\n",
    "    in_table=visited_vertices,\n",
    "    out_feature_class=r\"visited_vertices\",\n",
    "    x_field=\"x\",\n",
    "    y_field=\"y\",\n",
    "    z_field=None,\n",
    "    coordinate_system='PROJCS[\"ETRS_1989_UWPP_1992\",GEOGCS[\"GCS_ETRS_1989\",DATUM[\"D_ETRS_1989\",SPHEROID[\"GRS_1980\",6378137.0,298.257222101]],PRIMEM[\"Greenwich\",0.0],UNIT[\"Degree\",0.0174532925199433]],PROJECTION[\"Gauss_Kruger\"],PARAMETER[\"False_Easting\",500000.0],PARAMETER[\"False_Northing\",-5300000.0],PARAMETER[\"Central_Meridian\",19.0],PARAMETER[\"Scale_Factor\",0.9993],PARAMETER[\"Latitude_Of_Origin\",0.0],UNIT[\"Meter\",1.0]];-5119200 -15295100 10000;-100000 10000;-100000 10000;0.001;0.001;0.001;IsHighPrecision'\n",
    ")\n",
    "\n",
    "def create_sql_expression(road_path):\n",
    "    sql_expression = \"FID = \" + str(road_path[0])\n",
    "    for i in road_path[1:]:\n",
    "        sql_expression += \" Or FID = \" + str(i)\n",
    "\n",
    "    return sql_expression\n",
    "\n",
    "sql_expression = create_sql_expression(road_path)\n",
    "\n",
    "arcpy.analysis.Select(\n",
    "    in_features=\"SKJZ\",\n",
    "    out_feature_class=r\"D:\\sem5\\pag\\lab3\\lab3\\lab3.gdb\\visited_roads\",\n",
    "    where_clause=sql_expression\n",
    ")\n"
   ]
  }
 ],
 "metadata": {
  "kernelspec": {
   "display_name": "ArcGISPro",
   "language": "Python",
   "name": "python3"
  },
  "language_info": {
   "file_extension": ".py",
   "name": "python",
   "version": "3"
  }
 },
 "nbformat": 4,
 "nbformat_minor": 2
}
