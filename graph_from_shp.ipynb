{
 "cells": [
  {
   "cell_type": "markdown",
   "metadata": {},
   "source": [
    "### Environment"
   ]
  },
  {
   "cell_type": "code",
   "execution_count": 37,
   "metadata": {},
   "outputs": [],
   "source": [
    "import arcpy\n",
    "from collections import defaultdict\n",
    "\n",
    "arcpy.env.workspace = r\"D:\\sem5\\pag\\lab3\\lab3\\lab3.gdb\"\n",
    "arcpy.env.overwriteOutput = True"
   ]
  },
  {
   "cell_type": "code",
   "execution_count": null,
   "metadata": {},
   "outputs": [],
   "source": [
    "# Merge the two road shapefiles\n",
    "arcpy.management.Merge(\n",
    "    inputs=\"L4_2_BDOT10k__OT_SKJZ_L;L4_1_BDOT10k__OT_SKJZ_L\",\n",
    "    output=r\"D:\\sem5\\pag\\lab3\\lab3\\lab3.gdb\\SKJZ\",\n",
    "    field_mappings='ID1 \"ID1\" true true false 10 Long 0 0,First,#,L4_2_BDOT10k__OT_SKJZ_L,ID1,-1,-1,L4_1_BDOT10k__OT_SKJZ_L,ID1,-1,-1',\n",
    "    add_source=\"NO_SOURCE_INFO\"\n",
    ")"
   ]
  },
  {
   "cell_type": "markdown",
   "metadata": {},
   "source": [
    "### Define the start and end vertex"
   ]
  },
  {
   "cell_type": "code",
   "execution_count": 46,
   "metadata": {},
   "outputs": [],
   "source": [
    "start = 1313\n",
    "end = 1928"
   ]
  },
  {
   "cell_type": "markdown",
   "metadata": {},
   "source": [
    "# Make graph from a shapefile\n",
    "This code takes a shapefile file containing a road network and processes it producing a vertcies and edges file. \\\n",
    "vertex: id, x, y, edges \\\n",
    "edge: id, from, to, road_id, length"
   ]
  },
  {
   "cell_type": "code",
   "execution_count": 16,
   "metadata": {},
   "outputs": [
    {
     "name": "stdout",
     "output_type": "stream",
     "text": [
      "Liczba wierzchołków: 31058\n",
      "Liczba krawędzi: 38559\n"
     ]
    },
    {
     "data": {
      "text/html": [
       "<div class='gpresult'><h2>Messages</h2><div id='messages'>Start Time: 27 October 2024 21:14:23<br>Succeeded at 27 October 2024 21:14:32 (Elapsed Time: 9.05 seconds)<br></div><div id = 'default' /></div></div>"
      ],
      "text/plain": [
       "<Result 'D:\\\\sem5\\\\pag\\\\lab3\\\\lab3\\\\lab3.gdb\\\\vertices'>"
      ]
     },
     "execution_count": 16,
     "metadata": {},
     "output_type": "execute_result"
    }
   ],
   "source": [
    "roads_shp = \"SKJZ\"\n",
    "\n",
    "vertices_file = \"vertices.txt\"\n",
    "edges_file = \"edges.txt\"\n",
    "\n",
    "vertices = {}\n",
    "edges = []\n",
    "\n",
    "# Create vertex if one doesn't exist with the same coords\n",
    "def add_vertex(x, y, vertex_id):\n",
    "    if (x, y) not in vertices:\n",
    "        vertices[(x, y)] = {'id': vertex_id, 'x': x, 'y': y, 'edges': []}\n",
    "    return vertices[(x, y)]['id']\n",
    "\n",
    "# Read road shp\n",
    "with arcpy.da.SearchCursor(roads_shp, [\"SHAPE@\", \"OBJECTID\"]) as cursor:\n",
    "    vertex_id = 0\n",
    "    edge_id = 0\n",
    "\n",
    "    for row in cursor:\n",
    "        line = row[0]\n",
    "        FID = row[1]\n",
    "        \n",
    "        # eead start and end point, round to int\n",
    "        start_point = line.firstPoint\n",
    "        end_point = line.lastPoint\n",
    "\n",
    "        start_point = (round(start_point.X, 0), round(start_point.Y, 0))\n",
    "        end_point = (round(end_point.X, 0), round(end_point.Y, 0))\n",
    "        \n",
    "        start_vertex = add_vertex(start_point[0], start_point[1], vertex_id)\n",
    "        vertex_id += 1 if start_vertex == vertex_id else 0\n",
    "\n",
    "        end_vertex = add_vertex(end_point[0], end_point[1], vertex_id)\n",
    "        vertex_id += 1 if end_vertex == vertex_id else 0\n",
    "\n",
    "        # add edges\n",
    "        edges.append({\n",
    "            \"id\": edge_id,\n",
    "            \"from\": start_vertex,\n",
    "            \"to\": end_vertex,\n",
    "            \"road_id\": FID,\n",
    "            \"length\": int(line.length)\n",
    "        })\n",
    "\n",
    "        edge_id += 1\n",
    "        \n",
    "        # add edges to the vertex file\n",
    "        vertices[start_point]['edges'].append(edge_id)\n",
    "        vertices[end_point]['edges'].append(edge_id)\n",
    "\n",
    "\n",
    "# Write vertices\n",
    "with open(vertices_file, \"w\") as vf:\n",
    "    vf.write(\"id\\tx\\ty\\tedges\\n\")\n",
    "    for v in vertices.values():\n",
    "        vf.write(f\"{v['id']}\\t{v['x']}\\t{v['y']}\\t{','.join(map(str, v['edges']))}\\n\")\n",
    "\n",
    "# Write edges\n",
    "with open(edges_file, \"w\") as ef:\n",
    "    ef.write(\"id\\tfrom\\tto\\troad_id\\tlength\\n\")\n",
    "    for edge in edges:\n",
    "        ef.write(f\"{edge['id']}\\t{edge['from']}\\t{edge['to']}\\t{edge['road_id']}\\t{edge['length']}\\n\")\n",
    "\n",
    "# print(\"Vertex count:\", len(vertices))\n",
    "# print(\"Edge count:\", len(edges))\n"
   ]
  },
  {
   "cell_type": "markdown",
   "metadata": {},
   "source": [
    "### Display all vertices "
   ]
  },
  {
   "cell_type": "code",
   "execution_count": 17,
   "metadata": {},
   "outputs": [
    {
     "data": {
      "text/html": [
       "<div class='gpresult'><h2>Messages</h2><div id='messages'>Start Time: 27 October 2024 21:15:19<br>Succeeded at 27 October 2024 21:15:28 (Elapsed Time: 8.83 seconds)<br></div><div id = 'default' /></div></div>"
      ],
      "text/plain": [
       "<Result 'D:\\\\sem5\\\\pag\\\\lab3\\\\lab3\\\\lab3.gdb\\\\vertices'>"
      ]
     },
     "execution_count": 17,
     "metadata": {},
     "output_type": "execute_result"
    }
   ],
   "source": [
    "# Makes points from the vertex.txt file\n",
    "arcpy.management.XYTableToPoint(\n",
    "    in_table=\"vertices.txt\",\n",
    "    out_feature_class=r\"vertices\",\n",
    "    x_field=\"x\",\n",
    "    y_field=\"y\",\n",
    "    z_field=None,\n",
    "    coordinate_system='PROJCS[\"ETRS_1989_UWPP_1992\",GEOGCS[\"GCS_ETRS_1989\",DATUM[\"D_ETRS_1989\",SPHEROID[\"GRS_1980\",6378137.0,298.257222101]],PRIMEM[\"Greenwich\",0.0],UNIT[\"Degree\",0.0174532925199433]],PROJECTION[\"Gauss_Kruger\"],PARAMETER[\"False_Easting\",500000.0],PARAMETER[\"False_Northing\",-5300000.0],PARAMETER[\"Central_Meridian\",19.0],PARAMETER[\"Scale_Factor\",0.9993],PARAMETER[\"Latitude_Of_Origin\",0.0],UNIT[\"Meter\",1.0]];-5119200 -15295100 10000;-100000 10000;-100000 10000;0.001;0.001;0.001;IsHighPrecision'\n",
    ")"
   ]
  },
  {
   "cell_type": "markdown",
   "metadata": {},
   "source": [
    "# BFS path finder"
   ]
  },
  {
   "cell_type": "code",
   "execution_count": 47,
   "metadata": {},
   "outputs": [
    {
     "name": "stdout",
     "output_type": "stream",
     "text": [
      "[1313, 1214, 1215, 1775, 1827, 1928]\n",
      "[1261, 1189, 1981, 1983, 2122]\n"
     ]
    }
   ],
   "source": [
    "path_file = r\"path.txt\"\n",
    "vertices = r\"vertices.txt\"\n",
    "edges = r\"edges.txt\"\n",
    "\n",
    "\n",
    "visited_vertices = r\"visited_vertices.txt\"\n",
    "roads_visited = r\"roads_visited.txt\"\n",
    "\n",
    "# read undirected graph\n",
    "def read_graph_undirected(filename):\n",
    "    f = open(filename)\n",
    "    g = defaultdict(list)\n",
    "    road_ids = {}\n",
    "    f.readline()\n",
    "    for line in f:\n",
    "        e = [int(x) for x in line.split()]\n",
    "        g[e[1]].append(e[2])\n",
    "        g[e[2]].append(e[1])\n",
    "        road_id = e[3]\n",
    "\n",
    "        road_ids[(e[1], e[2])] = road_id\n",
    "        road_ids[(e[2], e[1])] = road_id\n",
    "        \n",
    "    return g, road_ids\n",
    "\n",
    "# retrives path from a to b\n",
    "def retrieve_path(prev, a, b, road_ids):\n",
    "    path = [b]\n",
    "    road_path = []\n",
    "    while b != a:\n",
    "        b = prev[b]\n",
    "        path.append(b)\n",
    "        road_path.append(road_ids[(b, path[-2])])\n",
    "    path.reverse()\n",
    "    road_path.reverse()\n",
    "    return path, road_path\n",
    "\n",
    "# Finds the shortest path in terms of number of edges - BFS\n",
    "def bfs_path(graph,road_ids, a, b):\n",
    "    # init\n",
    "    queue = []\n",
    "    visited = set()\n",
    "    prev = {}\n",
    "\n",
    "    # add staring vertex to the queue\n",
    "    queue.append(a)\n",
    "    visited.add(a)\n",
    "    prev[a] = None\n",
    "\n",
    "    while queue:\n",
    "        u = queue.pop(0)                    # dequeue the first vertex\n",
    "        if u == b:\n",
    "            return retrieve_path(prev, a, b, road_ids) # path found?    \n",
    "\n",
    "        for w in graph[u]:                  # loop over all neighbours\n",
    "            if w not in visited:            # not visited yet\n",
    "                queue.append(w)             # enqueue them\n",
    "                visited.add(w)\n",
    "                prev[w] = u\n",
    "    \n",
    "    return None\n",
    "\n",
    "\n",
    "g, road_ids = read_graph_undirected(edges)\n",
    "path, road_path = bfs_path(g, road_ids, start, end)\n",
    "\n",
    "print(path)\n",
    "print(road_path)\n",
    "\n",
    "\n",
    "# find the vertices in the path and write the coords to the file\n",
    "with open(vertices, 'r') as f:\n",
    "    vertices = f.readlines()\n",
    "    vertices = [x.strip() for x in vertices]\n",
    "    path = [vertices[i+2].split()[0] for i in path]\n",
    "\n",
    "# write the path to a file\n",
    "with open(visited_vertices, 'w') as f:\n",
    "    f.write(\"id\\tx\\ty\\tedges\\n\")\n",
    "    for i in path:\n",
    "        f.write(vertices[int(i)] + '\\n')\n",
    "\n",
    "# write the road path to a file\n",
    "with open(roads_visited, 'w') as f:\n",
    "    f.write(\"id\\tx\\ty\\tedges\\n\")\n",
    "    for i in road_path:\n",
    "        f.write(str(i) + '\\n')\n",
    "\n",
    "def create_sql_expression(road_path):\n",
    "    sql_expression = \"OBJECTID = \" + str(road_path[0])\n",
    "    for i in road_path[1:]:\n",
    "        sql_expression += \" Or OBJECTID = \" + str(i)\n",
    "\n",
    "    return sql_expression\n",
    "\n",
    "sql_expression = create_sql_expression(road_path)\n"
   ]
  },
  {
   "cell_type": "markdown",
   "metadata": {},
   "source": [
    "### Display the vertices on the path"
   ]
  },
  {
   "cell_type": "code",
   "execution_count": 48,
   "metadata": {},
   "outputs": [
    {
     "data": {
      "text/html": [
       "<div class='gpresult'><h2>Messages</h2><div id='messages'>Start Time: 27 October 2024 22:51:10<br>Succeeded at 27 October 2024 22:51:16 (Elapsed Time: 5.86 seconds)<br></div><div id = 'default' /></div></div>"
      ],
      "text/plain": [
       "<Result 'D:\\\\sem5\\\\pag\\\\lab3\\\\lab3\\\\lab3.gdb\\\\visited_vertices'>"
      ]
     },
     "execution_count": 48,
     "metadata": {},
     "output_type": "execute_result"
    }
   ],
   "source": [
    "arcpy.management.XYTableToPoint(\n",
    "    in_table=\"visited_vertices.txt\",\n",
    "    out_feature_class=r\"visited_vertices\",\n",
    "    x_field=\"x\",\n",
    "    y_field=\"y\",\n",
    "    z_field=None,\n",
    "    coordinate_system='PROJCS[\"ETRS_1989_UWPP_1992\",GEOGCS[\"GCS_ETRS_1989\",DATUM[\"D_ETRS_1989\",SPHEROID[\"GRS_1980\",6378137.0,298.257222101]],PRIMEM[\"Greenwich\",0.0],UNIT[\"Degree\",0.0174532925199433]],PROJECTION[\"Gauss_Kruger\"],PARAMETER[\"False_Easting\",500000.0],PARAMETER[\"False_Northing\",-5300000.0],PARAMETER[\"Central_Meridian\",19.0],PARAMETER[\"Scale_Factor\",0.9993],PARAMETER[\"Latitude_Of_Origin\",0.0],UNIT[\"Meter\",1.0]];-5119200 -15295100 10000;-100000 10000;-100000 10000;0.001;0.001;0.001;IsHighPrecision'\n",
    ")"
   ]
  },
  {
   "cell_type": "markdown",
   "metadata": {},
   "source": [
    "### Display roads"
   ]
  },
  {
   "cell_type": "code",
   "execution_count": 49,
   "metadata": {},
   "outputs": [
    {
     "data": {
      "text/html": [
       "<div class='gpresult'><h2>Messages</h2><div id='messages'>Start Time: 27 October 2024 22:51:18<br>Succeeded at 27 October 2024 22:51:22 (Elapsed Time: 3.56 seconds)<br></div><div id = 'default' /></div></div>"
      ],
      "text/plain": [
       "<Result 'D:\\\\sem5\\\\pag\\\\lab3\\\\lab3\\\\lab3.gdb\\\\SKJZ_Select'>"
      ]
     },
     "execution_count": 49,
     "metadata": {},
     "output_type": "execute_result"
    }
   ],
   "source": [
    "arcpy.analysis.Select(\n",
    "    in_features=\"SKJZ\",\n",
    "    out_feature_class=r\"D:\\sem5\\pag\\lab3\\lab3\\lab3.gdb\\visited_roads\",\n",
    "    where_clause=sql_expression\n",
    ")\n"
   ]
  },
  {
   "cell_type": "code",
   "execution_count": null,
   "metadata": {},
   "outputs": [],
   "source": []
  }
 ],
 "metadata": {
  "kernelspec": {
   "display_name": "ArcGISPro",
   "language": "Python",
   "name": "python3"
  },
  "language_info": {
   "file_extension": ".py",
   "name": "python",
   "version": "3"
  }
 },
 "nbformat": 4,
 "nbformat_minor": 2
}
