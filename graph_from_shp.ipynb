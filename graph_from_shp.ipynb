{
 "cells": [
  {
   "cell_type": "markdown",
   "metadata": {},
   "source": [
    "### Make graph from a shapefile\n",
    "This code takes a shapefile file containing a road network and processes it producing a vertcies and edges file. \\\n",
    "vertex: id, x, y, edges\n",
    "edge: id, from, to, road_id, length"
   ]
  },
  {
   "cell_type": "code",
   "execution_count": 1,
   "metadata": {},
   "outputs": [
    {
     "name": "stdout",
     "output_type": "stream",
     "text": [
      "Liczba wierzchołków: 31058\n",
      "Liczba krawędzi: 38559\n"
     ]
    },
    {
     "data": {
      "text/html": [
       "<div class='gpresult'><h2>Messages</h2><div id='messages'>Start Time: 27 October 2024 00:52:35<br>Succeeded at 27 October 2024 00:52:40 (Elapsed Time: 4.75 seconds)<br></div><div id = 'default' /></div></div>"
      ],
      "text/plain": [
       "<Result 'D:\\\\sem5\\\\pag\\\\lab3\\\\lab3\\\\lab3.gdb\\\\vertices'>"
      ]
     },
     "execution_count": 1,
     "metadata": {},
     "output_type": "execute_result"
    }
   ],
   "source": [
    "import arcpy\n",
    "\n",
    "arcpy.env.workspace = r\"D:\\sem5\\pag\\lab3\\lab3\\lab3.gdb\"\n",
    "arcpy.env.overwriteOutput = True\n",
    "\n",
    "# Połączenie warstw z jezdniami w jedną\n",
    "arcpy.management.Merge(\n",
    "    inputs=\"L4_2_BDOT10k__OT_SKJZ_L;L4_1_BDOT10k__OT_SKJZ_L\",\n",
    "    output=r\"D:\\sem5\\pag\\lab3\\lab3\\lab3.gdb\\SKJZ\",\n",
    "    field_mappings='idIIP_BT_I \"idIIP_BT_I\" true true false 254 Text 0 0,First,#,L4_2_BDOT10k__OT_SKJZ_L,idIIP_BT_I,0,253,L4_1_BDOT10k__OT_SKJZ_L,idIIP_BT_I,0,253;idIIP_BT_1 \"idIIP_BT_1\" true true false 254 Text 0 0,First,#,L4_2_BDOT10k__OT_SKJZ_L,idIIP_BT_1,0,253,L4_1_BDOT10k__OT_SKJZ_L,idIIP_BT_1,0,253;idIIP_BT_2 \"idIIP_BT_2\" true true false 254 Text 0 0,First,#,L4_2_BDOT10k__OT_SKJZ_L,idIIP_BT_2,0,253,L4_1_BDOT10k__OT_SKJZ_L,idIIP_BT_2,0,253;czyObiektB \"czyObiektB\" true true false 4 Short 0 4,First,#,L4_2_BDOT10k__OT_SKJZ_L,czyObiektB,-1,-1,L4_1_BDOT10k__OT_SKJZ_L,czyObiektB,-1,-1;x_kod \"x_kod\" true true false 254 Text 0 0,First,#,L4_2_BDOT10k__OT_SKJZ_L,x_kod,0,253,L4_1_BDOT10k__OT_SKJZ_L,x_kod,0,253;x_skrKarto \"x_skrKarto\" true true false 254 Text 0 0,First,#,L4_2_BDOT10k__OT_SKJZ_L,x_skrKarto,0,253,L4_1_BDOT10k__OT_SKJZ_L,x_skrKarto,0,253;x_skrKart1 \"x_skrKart1\" true true false 254 Text 0 0,First,#,L4_2_BDOT10k__OT_SKJZ_L,x_skrKart1,0,253,L4_1_BDOT10k__OT_SKJZ_L,x_skrKart1,0,253;x_katDoklG \"x_katDoklG\" true true false 254 Text 0 0,First,#,L4_2_BDOT10k__OT_SKJZ_L,x_katDoklG,0,253,L4_1_BDOT10k__OT_SKJZ_L,x_katDoklG,0,253;x_doklGeom \"x_doklGeom\" true true false 19 Double 0 0,First,#,L4_2_BDOT10k__OT_SKJZ_L,x_doklGeom,-1,-1,L4_1_BDOT10k__OT_SKJZ_L,x_doklGeom,-1,-1;x_zrodloDa \"x_zrodloDa\" true true false 254 Text 0 0,First,#,L4_2_BDOT10k__OT_SKJZ_L,x_zrodloDa,0,253,L4_1_BDOT10k__OT_SKJZ_L,x_zrodloDa,0,253;x_zrodloD1 \"x_zrodloD1\" true true false 254 Text 0 0,First,#,L4_2_BDOT10k__OT_SKJZ_L,x_zrodloD1,0,253,L4_1_BDOT10k__OT_SKJZ_L,x_zrodloD1,0,253;x_katIstni \"x_katIstni\" true true false 254 Text 0 0,First,#,L4_2_BDOT10k__OT_SKJZ_L,x_katIstni,0,253,L4_1_BDOT10k__OT_SKJZ_L,x_katIstni,0,253;x_katIstn1 \"x_katIstn1\" true true false 254 Text 0 0,First,#,L4_2_BDOT10k__OT_SKJZ_L,x_katIstn1,0,253,L4_1_BDOT10k__OT_SKJZ_L,x_katIstn1,0,253;x_rodzajRe \"x_rodzajRe\" true true false 254 Text 0 0,First,#,L4_2_BDOT10k__OT_SKJZ_L,x_rodzajRe,0,253,L4_1_BDOT10k__OT_SKJZ_L,x_rodzajRe,0,253;x_uwagi \"x_uwagi\" true true false 254 Text 0 0,First,#,L4_2_BDOT10k__OT_SKJZ_L,x_uwagi,0,253,L4_1_BDOT10k__OT_SKJZ_L,x_uwagi,0,253;x_uzytkown \"x_uzytkown\" true true false 254 Text 0 0,First,#,L4_2_BDOT10k__OT_SKJZ_L,x_uzytkown,0,253,L4_1_BDOT10k__OT_SKJZ_L,x_uzytkown,0,253;x_aktualno \"x_aktualno\" true true false 8 Date 0 0,First,#,L4_2_BDOT10k__OT_SKJZ_L,x_aktualno,-1,-1,L4_1_BDOT10k__OT_SKJZ_L,x_aktualno,-1,-1;x_aktualn1 \"x_aktualn1\" true true false 8 Date 0 0,First,#,L4_2_BDOT10k__OT_SKJZ_L,x_aktualn1,-1,-1,L4_1_BDOT10k__OT_SKJZ_L,x_aktualn1,-1,-1;x_cyklZyci \"x_cyklZyci\" true true false 8 Date 0 0,First,#,L4_2_BDOT10k__OT_SKJZ_L,x_cyklZyci,-1,-1,L4_1_BDOT10k__OT_SKJZ_L,x_cyklZyci,-1,-1;x_cyklZyc1 \"x_cyklZyc1\" true true false 8 Date 0 0,First,#,L4_2_BDOT10k__OT_SKJZ_L,x_cyklZyc1,-1,-1,L4_1_BDOT10k__OT_SKJZ_L,x_cyklZyc1,-1,-1;x_dataUtwo \"x_dataUtwo\" true true false 8 Date 0 0,First,#,L4_2_BDOT10k__OT_SKJZ_L,x_dataUtwo,-1,-1,L4_1_BDOT10k__OT_SKJZ_L,x_dataUtwo,-1,-1;x_informDo \"x_informDo\" true true false 254 Text 0 0,First,#,L4_2_BDOT10k__OT_SKJZ_L,x_informDo,0,253,L4_1_BDOT10k__OT_SKJZ_L,x_informDo,0,253;x_kodKarto \"x_kodKarto\" true true false 254 Text 0 0,First,#,L4_2_BDOT10k__OT_SKJZ_L,x_kodKarto,0,253,L4_1_BDOT10k__OT_SKJZ_L,x_kodKarto,0,253;x_kodKart1 \"x_kodKart1\" true true false 254 Text 0 0,First,#,L4_2_BDOT10k__OT_SKJZ_L,x_kodKart1,0,253,L4_1_BDOT10k__OT_SKJZ_L,x_kodKart1,0,253;x_kodKart2 \"x_kodKart2\" true true false 254 Text 0 0,First,#,L4_2_BDOT10k__OT_SKJZ_L,x_kodKart2,0,253,L4_1_BDOT10k__OT_SKJZ_L,x_kodKart2,0,253;x_kodKart3 \"x_kodKart3\" true true false 254 Text 0 0,First,#,L4_2_BDOT10k__OT_SKJZ_L,x_kodKart3,0,253,L4_1_BDOT10k__OT_SKJZ_L,x_kodKart3,0,253;x_kodKart4 \"x_kodKart4\" true true false 254 Text 0 0,First,#,L4_2_BDOT10k__OT_SKJZ_L,x_kodKart4,0,253,L4_1_BDOT10k__OT_SKJZ_L,x_kodKart4,0,253;x_kodKart5 \"x_kodKart5\" true true false 254 Text 0 0,First,#,L4_2_BDOT10k__OT_SKJZ_L,x_kodKart5,0,253,L4_1_BDOT10k__OT_SKJZ_L,x_kodKart5,0,253;x_kodKart6 \"x_kodKart6\" true true false 254 Text 0 0,First,#,L4_2_BDOT10k__OT_SKJZ_L,x_kodKart6,0,253,L4_1_BDOT10k__OT_SKJZ_L,x_kodKart6,0,253;x_kodKart7 \"x_kodKart7\" true true false 254 Text 0 0,First,#,L4_2_BDOT10k__OT_SKJZ_L,x_kodKart7,0,253,L4_1_BDOT10k__OT_SKJZ_L,x_kodKart7,0,253;x_kodKart8 \"x_kodKart8\" true true false 254 Text 0 0,First,#,L4_2_BDOT10k__OT_SKJZ_L,x_kodKart8,0,253,L4_1_BDOT10k__OT_SKJZ_L,x_kodKart8,0,253;x_kodKart9 \"x_kodKart9\" true true false 254 Text 0 0,First,#,L4_2_BDOT10k__OT_SKJZ_L,x_kodKart9,0,253,L4_1_BDOT10k__OT_SKJZ_L,x_kodKart9,0,253;x_kodKa_10 \"x_kodKa_10\" true true false 254 Text 0 0,First,#,L4_2_BDOT10k__OT_SKJZ_L,x_kodKa_10,0,253,L4_1_BDOT10k__OT_SKJZ_L,x_kodKa_10,0,253;x_kodKa_11 \"x_kodKa_11\" true true false 254 Text 0 0,First,#,L4_2_BDOT10k__OT_SKJZ_L,x_kodKa_11,0,253,L4_1_BDOT10k__OT_SKJZ_L,x_kodKa_11,0,253;x_kodKa_12 \"x_kodKa_12\" true true false 254 Text 0 0,First,#,L4_2_BDOT10k__OT_SKJZ_L,x_kodKa_12,0,253,L4_1_BDOT10k__OT_SKJZ_L,x_kodKa_12,0,253;x_kodKa_13 \"x_kodKa_13\" true true false 254 Text 0 0,First,#,L4_2_BDOT10k__OT_SKJZ_L,x_kodKa_13,0,253,L4_1_BDOT10k__OT_SKJZ_L,x_kodKa_13,0,253;obiektKart \"obiektKart\" true true false 254 Text 0 0,First,#,L4_2_BDOT10k__OT_SKJZ_L,obiektKart,0,253,L4_1_BDOT10k__OT_SKJZ_L,obiektKart,0,253;obiektKar1 \"obiektKar1\" true true false 254 Text 0 0,First,#,L4_2_BDOT10k__OT_SKJZ_L,obiektKar1,0,253,L4_1_BDOT10k__OT_SKJZ_L,obiektKar1,0,253;obiektKar2 \"obiektKar2\" true true false 254 Text 0 0,First,#,L4_2_BDOT10k__OT_SKJZ_L,obiektKar2,0,253,L4_1_BDOT10k__OT_SKJZ_L,obiektKar2,0,253;obiektKar3 \"obiektKar3\" true true false 254 Text 0 0,First,#,L4_2_BDOT10k__OT_SKJZ_L,obiektKar3,0,253,L4_1_BDOT10k__OT_SKJZ_L,obiektKar3,0,253;katZarzadz \"katZarzadz\" true true false 254 Text 0 0,First,#,L4_2_BDOT10k__OT_SKJZ_L,katZarzadz,0,253,L4_1_BDOT10k__OT_SKJZ_L,katZarzadz,0,253;katZarzad1 \"katZarzad1\" true true false 254 Text 0 0,First,#,L4_2_BDOT10k__OT_SKJZ_L,katZarzad1,0,253,L4_1_BDOT10k__OT_SKJZ_L,katZarzad1,0,253;klasaDrogi \"klasaDrogi\" true true false 254 Text 0 0,First,#,L4_2_BDOT10k__OT_SKJZ_L,klasaDrogi,0,253,L4_1_BDOT10k__OT_SKJZ_L,klasaDrogi,0,253;klasaDrog1 \"klasaDrog1\" true true false 254 Text 0 0,First,#,L4_2_BDOT10k__OT_SKJZ_L,klasaDrog1,0,253,L4_1_BDOT10k__OT_SKJZ_L,klasaDrog1,0,253;materialNa \"materialNa\" true true false 254 Text 0 0,First,#,L4_2_BDOT10k__OT_SKJZ_L,materialNa,0,253,L4_1_BDOT10k__OT_SKJZ_L,materialNa,0,253;materialN1 \"materialN1\" true true false 254 Text 0 0,First,#,L4_2_BDOT10k__OT_SKJZ_L,materialN1,0,253,L4_1_BDOT10k__OT_SKJZ_L,materialN1,0,253;nazwaDrogi \"nazwaDrogi\" true true false 254 Text 0 0,First,#,L4_2_BDOT10k__OT_SKJZ_L,nazwaDrogi,0,253,L4_1_BDOT10k__OT_SKJZ_L,nazwaDrogi,0,253;liczbaJezd \"liczbaJezd\" true true false 5 Long 0 5,First,#,L4_2_BDOT10k__OT_SKJZ_L,liczbaJezd,-1,-1,L4_1_BDOT10k__OT_SKJZ_L,liczbaJezd,-1,-1;liczbaJez1 \"liczbaJez1\" true true false 254 Text 0 0,First,#,L4_2_BDOT10k__OT_SKJZ_L,liczbaJez1,0,253,L4_1_BDOT10k__OT_SKJZ_L,liczbaJez1,0,253;polozenie \"polozenie\" true true false 254 Text 0 0,First,#,L4_2_BDOT10k__OT_SKJZ_L,polozenie,0,253,L4_1_BDOT10k__OT_SKJZ_L,polozenie,0,253;polozenie_ \"polozenie_\" true true false 254 Text 0 0,First,#,L4_2_BDOT10k__OT_SKJZ_L,polozenie_,0,253,L4_1_BDOT10k__OT_SKJZ_L,polozenie_,0,253;szerNawier \"szerNawier\" true true false 19 Double 0 0,First,#,L4_2_BDOT10k__OT_SKJZ_L,szerNawier,-1,-1,L4_1_BDOT10k__OT_SKJZ_L,szerNawier,-1,-1;szerKorony \"szerKorony\" true true false 19 Double 0 0,First,#,L4_2_BDOT10k__OT_SKJZ_L,szerKorony,-1,-1,L4_1_BDOT10k__OT_SKJZ_L,szerKorony,-1,-1;liczbaPaso \"liczbaPaso\" true true false 5 Long 0 5,First,#,L4_2_BDOT10k__OT_SKJZ_L,liczbaPaso,-1,-1,L4_1_BDOT10k__OT_SKJZ_L,liczbaPaso,-1,-1;liczbaPas1 \"liczbaPas1\" true true false 254 Text 0 0,First,#,L4_2_BDOT10k__OT_SKJZ_L,liczbaPas1,0,253,L4_1_BDOT10k__OT_SKJZ_L,liczbaPas1,0,253;ulica \"ulica\" true true false 4 Short 0 4,First,#,L4_2_BDOT10k__OT_SKJZ_L,ulica,-1,-1,L4_1_BDOT10k__OT_SKJZ_L,ulica,-1,-1;ulica_NilR \"ulica_NilR\" true true false 254 Text 0 0,First,#,L4_2_BDOT10k__OT_SKJZ_L,ulica_NilR,0,253,L4_1_BDOT10k__OT_SKJZ_L,ulica_NilR,0,253;szlakDrogo \"szlakDrogo\" true true false 254 Text 0 0,First,#,L4_2_BDOT10k__OT_SKJZ_L,szlakDrogo,0,253,L4_1_BDOT10k__OT_SKJZ_L,szlakDrogo,0,253;szlakDrog1 \"szlakDrog1\" true true false 254 Text 0 0,First,#,L4_2_BDOT10k__OT_SKJZ_L,szlakDrog1,0,253,L4_1_BDOT10k__OT_SKJZ_L,szlakDrog1,0,253;szlakDrog2 \"szlakDrog2\" true true false 254 Text 0 0,First,#,L4_2_BDOT10k__OT_SKJZ_L,szlakDrog2,0,253,L4_1_BDOT10k__OT_SKJZ_L,szlakDrog2,0,253;szlakDrog3 \"szlakDrog3\" true true false 254 Text 0 0,First,#,L4_2_BDOT10k__OT_SKJZ_L,szlakDrog3,0,253,L4_1_BDOT10k__OT_SKJZ_L,szlakDrog3,0,253;szlakDrog4 \"szlakDrog4\" true true false 254 Text 0 0,First,#,L4_2_BDOT10k__OT_SKJZ_L,szlakDrog4,0,253,L4_1_BDOT10k__OT_SKJZ_L,szlakDrog4,0,253;skdr_l1 \"skdr_l1\" true true false 254 Text 0 0,First,#,L4_2_BDOT10k__OT_SKJZ_L,skdr_l1,0,253,L4_1_BDOT10k__OT_SKJZ_L,skdr_l1,0,253;ulica3 \"ulica3\" true true false 254 Text 0 0,First,#,L4_2_BDOT10k__OT_SKJZ_L,ulica3,0,253,L4_1_BDOT10k__OT_SKJZ_L,ulica3,0,253;BDOT500_1 \"BDOT500_1\" true true false 254 Text 0 0,First,#,L4_2_BDOT10k__OT_SKJZ_L,BDOT500_1,0,253,L4_1_BDOT10k__OT_SKJZ_L,BDOT500_1,0,253;BDOT500_2 \"BDOT500_2\" true true false 254 Text 0 0,First,#,L4_2_BDOT10k__OT_SKJZ_L,BDOT500_2,0,253,L4_1_BDOT10k__OT_SKJZ_L,BDOT500_2,0,253;BDOT500_3 \"BDOT500_3\" true true false 254 Text 0 0,First,#,L4_2_BDOT10k__OT_SKJZ_L,BDOT500_3,0,253,L4_1_BDOT10k__OT_SKJZ_L,BDOT500_3,0,253;BDOT500_4 \"BDOT500_4\" true true false 254 Text 0 0,First,#,L4_2_BDOT10k__OT_SKJZ_L,BDOT500_4,0,253,L4_1_BDOT10k__OT_SKJZ_L,BDOT500_4,0,253;BDOT500_5 \"BDOT500_5\" true true false 254 Text 0 0,First,#,L4_2_BDOT10k__OT_SKJZ_L,BDOT500_5,0,253,L4_1_BDOT10k__OT_SKJZ_L,BDOT500_5,0,253;ID1 \"ID1\" true true false 10 Long 0 10,First,#,L4_2_BDOT10k__OT_SKJZ_L,ID1,-1,-1,L4_1_BDOT10k__OT_SKJZ_L,ID1,-1,-1;geometria_ \"geometria_\" true true false 15 Text 0 0,First,#,L4_2_BDOT10k__OT_SKJZ_L,geometria_,0,14,L4_1_BDOT10k__OT_SKJZ_L,geometria_,0,14;x_uzytkow1 \"x_uzytkow1\" true true false 254 Text 0 0,First,#,L4_2_BDOT10k__OT_SKJZ_L,x_uzytkow1,0,253,L4_1_BDOT10k__OT_SKJZ_L,x_uzytkow1,0,253;szerNawie1 \"szerNawie1\" true true false 254 Text 0 0,First,#,L4_2_BDOT10k__OT_SKJZ_L,szerNawie1,0,253,L4_1_BDOT10k__OT_SKJZ_L,szerNawie1,0,253;szerKoron1 \"szerKoron1\" true true false 254 Text 0 0,First,#,L4_2_BDOT10k__OT_SKJZ_L,szerKoron1,0,253,L4_1_BDOT10k__OT_SKJZ_L,szerKoron1,0,253;skdr_l1_ni \"skdr_l1_ni\" true true false 254 Text 0 0,First,#,L4_2_BDOT10k__OT_SKJZ_L,skdr_l1_ni,0,253,L4_1_BDOT10k__OT_SKJZ_L,skdr_l1_ni,0,253;obiektKar4 \"obiektKar4\" true true false 254 Text 0 0,First,#,L4_2_BDOT10k__OT_SKJZ_L,obiektKar4,0,253,L4_1_BDOT10k__OT_SKJZ_L,obiektKar4,0,253;szlakDrog5 \"szlakDrog5\" true true false 254 Text 0 0,First,#,L4_2_BDOT10k__OT_SKJZ_L,szlakDrog5,0,253,L4_1_BDOT10k__OT_SKJZ_L,szlakDrog5,0,253;BDOT500 \"BDOT500\" true true false 254 Text 0 0,First,#,L4_2_BDOT10k__OT_SKJZ_L,BDOT500,0,253,L4_1_BDOT10k__OT_SKJZ_L,BDOT500,0,253;BDOT500_pr \"BDOT500_pr\" true true false 254 Text 0 0,First,#,L4_2_BDOT10k__OT_SKJZ_L,BDOT500_pr,0,253,L4_1_BDOT10k__OT_SKJZ_L,BDOT500_pr,0,253',\n",
    "    add_source=\"NO_SOURCE_INFO\"\n",
    ")\n",
    "\n",
    "roads_shp = \"SKJZ\"\n",
    "\n",
    "vertices_file = \"vertices.txt\"\n",
    "edges_file = \"edges.txt\"\n",
    "\n",
    "# Słownik do przechowywania unikalnych wierzchołków\n",
    "vertices = {}\n",
    "edges = []\n",
    "\n",
    "# Funkcja dodająca wierzchołek (tworzy nowy, jeśli jeszcze nie istnieje wierzchołek w tej lokalizacji)\n",
    "def add_vertex(x, y, vertex_id):\n",
    "    if (x, y) not in vertices:\n",
    "        vertices[(x, y)] = {'id': vertex_id, 'x': x, 'y': y, 'edge_out': []}\n",
    "    return vertices[(x, y)]['id']\n",
    "\n",
    "# Przetwarzanie shp z danymi dróg\n",
    "with arcpy.da.SearchCursor(roads_shp, [\"SHAPE@\", \"OBJECTID\"]) as cursor:\n",
    "    vertex_id = 0\n",
    "    edge_id = 0\n",
    "\n",
    "    for row in cursor:\n",
    "        line = row[0]\n",
    "        FID = row[1]\n",
    "        \n",
    "        # Pobieranie punktów początkowego i końcowego (zaokrąglenie do całkowitej)\n",
    "        start_point = line.firstPoint\n",
    "        end_point = line.lastPoint\n",
    "\n",
    "        start_point = (round(start_point.X, 0), round(start_point.Y, 0))\n",
    "        end_point = (round(end_point.X, 0), round(end_point.Y, 0))\n",
    "        \n",
    "        # Dodanie wierzchołków początkowego i końcowego\n",
    "        start_vertex = add_vertex(start_point[0], start_point[1], vertex_id)\n",
    "        vertex_id += 1 if start_vertex == vertex_id else 0  # Zwiększ ID jeśli wierzchołek jest nowy\n",
    "\n",
    "        end_vertex = add_vertex(end_point[0], end_point[1], vertex_id)\n",
    "        vertex_id += 1 if end_vertex == vertex_id else 0\n",
    "\n",
    "        # Dodanie krawędzi do listy\n",
    "        edges.append({\n",
    "            \"id\": edge_id,\n",
    "            \"from\": start_vertex,\n",
    "            \"to\": end_vertex,\n",
    "            \"road_id\": FID,\n",
    "            \"length\": line.length\n",
    "        })\n",
    "\n",
    "        edge_id += 1\n",
    "        \n",
    "        # Dodanie krawędzi wychodzących z wierzchołka\n",
    "        vertices[start_point]['edge_out'].append(edge_id)\n",
    "        vertices[end_point]['edge_out'].append(edge_id)\n",
    "\n",
    "\n",
    "# Zapis wierzchołków do pliku tekstowego\n",
    "with open(vertices_file, \"w\") as vf:\n",
    "    vf.write(\"id\\tx\\ty\\tedge_out\\n\")\n",
    "    for v in vertices.values():\n",
    "        vf.write(f\"{v['id']}\\t{v['x']}\\t{v['y']}\\t{','.join(map(str, v['edge_out']))}\\n\")\n",
    "\n",
    "# Zapis krawędzi do pliku tekstowego\n",
    "with open(edges_file, \"w\") as ef:\n",
    "    ef.write(\"id\\tfrom\\tto\\troad_id\\tlength\\n\")\n",
    "    for edge in edges:\n",
    "        ef.write(f\"{edge['id']}\\t{edge['from']}\\t{edge['to']}\\t{edge['road_id']}\\t{edge['length']}\\n\")\n",
    "\n",
    "print(\"Liczba wierzchołków:\", len(vertices))\n",
    "print(\"Liczba krawędzi:\", len(edges))\n",
    "\n",
    "# Stwórz punkty z wierzchołków (do wizualizacji)\n",
    "arcpy.management.XYTableToPoint(\n",
    "    in_table=\"vertices.txt\",\n",
    "    out_feature_class=r\"vertices\",\n",
    "    x_field=\"x\",\n",
    "    y_field=\"y\",\n",
    "    z_field=None,\n",
    "    coordinate_system='PROJCS[\"ETRS_1989_UWPP_1992\",GEOGCS[\"GCS_ETRS_1989\",DATUM[\"D_ETRS_1989\",SPHEROID[\"GRS_1980\",6378137.0,298.257222101]],PRIMEM[\"Greenwich\",0.0],UNIT[\"Degree\",0.0174532925199433]],PROJECTION[\"Gauss_Kruger\"],PARAMETER[\"False_Easting\",500000.0],PARAMETER[\"False_Northing\",-5300000.0],PARAMETER[\"Central_Meridian\",19.0],PARAMETER[\"Scale_Factor\",0.9993],PARAMETER[\"Latitude_Of_Origin\",0.0],UNIT[\"Meter\",1.0]];-5119200 -15295100 10000;-100000 10000;-100000 10000;0.001;0.001;0.001;IsHighPrecision'\n",
    ")"
   ]
  },
  {
   "cell_type": "code",
   "execution_count": null,
   "metadata": {},
   "outputs": [],
   "source": []
  }
 ],
 "metadata": {
  "kernelspec": {
   "display_name": "ArcGISPro",
   "language": "Python",
   "name": "python3"
  },
  "language_info": {
   "file_extension": ".py",
   "name": "python",
   "version": "3"
  }
 },
 "nbformat": 4,
 "nbformat_minor": 2
}
